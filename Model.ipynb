{
 "cells": [
  {
   "cell_type": "code",
   "execution_count": 2,
   "id": "b0e7a4a3-25cc-49ad-8a66-bc9f16d61416",
   "metadata": {},
   "outputs": [],
   "source": [
    "import tensorflow as tf"
   ]
  },
  {
   "cell_type": "code",
   "execution_count": 3,
   "id": "7bf88010-81da-4cda-bcbb-b1618256d33a",
   "metadata": {},
   "outputs": [],
   "source": [
    "import os\n",
    "import shutil\n",
    "import random\n",
    "\n",
    "raw_dir=r'D:\\Dataset\\mrlEyes_2018_01'\n",
    "file_path=[]\n",
    "for dirpath, dirname, filenames in os.walk(raw_dir):\n",
    "   for i  in [f for f in filenames if f.endswith('.png')]:\n",
    "       file_path.append(os.path.join(dirpath,i))\n",
    "random.shuffle(file_path)\n"
   ]
  },
  {
   "cell_type": "code",
   "execution_count": 4,
   "id": "ff2a05d7",
   "metadata": {},
   "outputs": [],
   "source": [
    "train_len=int(0.8*len(file_path))\n",
    "test_len=len(file_path)-train_len"
   ]
  },
  {
   "cell_type": "code",
   "execution_count": 5,
   "id": "7ed244d4",
   "metadata": {},
   "outputs": [],
   "source": [
    "count=0\n",
    "\n",
    "for i in file_path:\n",
    "    file_name = os.path.basename(i)\n",
    "    if count<train_len:\n",
    "        if file_name.split('_')[4]=='0':\n",
    "            shutil.copy(src=i, dst=r'D:\\Dataset\\mrlEyes_prepared_data\\train_data\\closed_eyes')\n",
    "        elif file_name.split('_')[4]=='1':\n",
    "            shutil.copy(src=i, dst=r'D:\\Dataset\\mrlEyes_prepared_data\\train_data\\open_eyes')\n",
    "    else:\n",
    "        if file_name.split('_')[4]=='0':\n",
    "            shutil.copy(src=i, dst=r'D:\\Dataset\\mrlEyes_prepared_data\\test_data\\closed_eyes')\n",
    "        elif file_name.split('_')[4]=='1':\n",
    "            shutil.copy(src=i, dst=r'D:\\Dataset\\mrlEyes_prepared_data\\test_data\\open_eyes')\n",
    "    count+=1\n",
    "        "
   ]
  },
  {
   "cell_type": "code",
   "execution_count": 6,
   "id": "0eb2fa3e-ac0c-4ab2-b0f7-fe4d3deb9fce",
   "metadata": {},
   "outputs": [],
   "source": [
    "from tensorflow.keras.applications import InceptionV3\n",
    "from tensorflow.keras.models import Model\n",
    "from tensorflow.keras.layers import Dropout,Input,Flatten,Dense,MaxPooling2D\n",
    "from tensorflow.keras.optimizers import Adam\n",
    "from tensorflow.keras.preprocessing.image import ImageDataGenerator"
   ]
  },
  {
   "cell_type": "code",
   "execution_count": 7,
   "id": "23a7bd3d-3e8f-4da3-a0c7-facd8261676b",
   "metadata": {},
   "outputs": [
    {
     "name": "stdout",
     "output_type": "stream",
     "text": [
      "Found 65109 images belonging to 2 classes.\n",
      "Found 16276 images belonging to 2 classes.\n"
     ]
    }
   ],
   "source": [
    "train_datagen=ImageDataGenerator(rescale=1./255,rotation_range=0.2,\n",
    "                              shear_range=0.2,\n",
    "                              zoom_range=0.2,width_shift_range=0.2,height_shift_range=0.2,validation_split=0.2)\n",
    "train_data=train_datagen.flow_from_directory(r'D:\\Dataset\\mrlEyes_prepared_data\\train_data',target_size=(80,80),batch_size=8,class_mode='categorical',subset='training')\n",
    "validation_data=train_datagen.flow_from_directory(r'D:\\Dataset\\mrlEyes_prepared_data\\train_data',target_size=(80,80),batch_size=8,class_mode='categorical',\n",
    "                                                 subset='validation')"
   ]
  },
  {
   "cell_type": "code",
   "execution_count": 8,
   "id": "1e0a3cdc-34c0-4a04-b16d-7aae8f192aed",
   "metadata": {},
   "outputs": [
    {
     "name": "stdout",
     "output_type": "stream",
     "text": [
      "Found 30447 images belonging to 2 classes.\n"
     ]
    }
   ],
   "source": [
    "test_datagen=ImageDataGenerator(rescale=1./255)\n",
    "\n",
    "test_data=test_datagen.flow_from_directory(r'D:\\Dataset\\mrlEyes_prepared_data\\test_data',target_size=(80,80),batch_size=8,class_mode='categorical')"
   ]
  },
  {
   "cell_type": "code",
   "execution_count": 9,
   "id": "6430a2ba-285a-4740-975d-bfd3a002aaa6",
   "metadata": {},
   "outputs": [],
   "source": [
    "base_model= InceptionV3(include_top=False,weights='imagenet',input_tensor=Input(shape=(80,80,3)))\n",
    "head_model=base_model.output"
   ]
  },
  {
   "cell_type": "code",
   "execution_count": 23,
   "id": "3147cf74-f0a3-4069-a7ad-002cace68049",
   "metadata": {},
   "outputs": [],
   "source": [
    "from tensorflow.keras.callbacks import ModelCheckpoint,EarlyStopping,ReduceLROnPlateau\n",
    "checkpoint=ModelCheckpoint(r'D:\\Model\\DD_Project\\model checkpoint\\model.keras',monitor='val_loss',save_best_only=True,verbose=3)\n",
    "\n",
    "earlystop=EarlyStopping(monitor='val_loss',patience=20,verbose=3,restore_best_weights=True)\n",
    "learning_rate=ReduceLROnPlateau(monitor='val_loss',patience=15,verbose=3)\n",
    "callbacks=[checkpoint,earlystop,learning_rate]"
   ]
  },
  {
   "cell_type": "code",
   "execution_count": 24,
   "id": "bbc7cebf-b7c7-4f82-8cfb-81a04e898d79",
   "metadata": {},
   "outputs": [],
   "source": [
    "head_model=Flatten()(head_model)\n",
    "head_model=Dense(64,activation='relu')(head_model)\n",
    "head_model=Dropout(0.5)(head_model)\n",
    "head_model=Dense(2,activation='softmax')(head_model)\n",
    "\n",
    "model=Model(inputs=base_model.input,outputs=head_model)\n",
    "\n",
    "for layer in base_model.layers:\n",
    "    layer.trainable=False"
   ]
  },
  {
   "cell_type": "code",
   "execution_count": 25,
   "id": "035d5b1f-1f1f-4240-b986-0e3ca1800fc8",
   "metadata": {},
   "outputs": [],
   "source": [
    "import PIL\n",
    "from PIL import Image"
   ]
  },
  {
   "cell_type": "code",
   "execution_count": 26,
   "id": "526e4c26-3fce-487e-a5d3-fbc03bb2ea91",
   "metadata": {},
   "outputs": [
    {
     "name": "stdout",
     "output_type": "stream",
     "text": [
      "Epoch 1/100\n",
      "\u001b[1m813/813\u001b[0m \u001b[32m━━━━━━━━━━━━━━━━━━━━\u001b[0m\u001b[37m\u001b[0m \u001b[1m0s\u001b[0m 51ms/step - accuracy: 0.9004 - loss: 0.3463\n",
      "Epoch 1: val_loss improved from inf to 0.24456, saving model to D:\\Model\\DD_Project\\model checkpoint\\model.keras\n",
      "\u001b[1m813/813\u001b[0m \u001b[32m━━━━━━━━━━━━━━━━━━━━\u001b[0m\u001b[37m\u001b[0m \u001b[1m70s\u001b[0m 75ms/step - accuracy: 0.9004 - loss: 0.3462 - val_accuracy: 0.9070 - val_loss: 0.2446 - learning_rate: 0.0010\n",
      "Epoch 2/100\n",
      "\u001b[1m813/813\u001b[0m \u001b[32m━━━━━━━━━━━━━━━━━━━━\u001b[0m\u001b[37m\u001b[0m \u001b[1m0s\u001b[0m 63ms/step - accuracy: 0.9302 - loss: 0.2011\n",
      "Epoch 2: val_loss did not improve from 0.24456\n",
      "\u001b[1m813/813\u001b[0m \u001b[32m━━━━━━━━━━━━━━━━━━━━\u001b[0m\u001b[37m\u001b[0m \u001b[1m61s\u001b[0m 76ms/step - accuracy: 0.9302 - loss: 0.2011 - val_accuracy: 0.9058 - val_loss: 0.2499 - learning_rate: 0.0010\n",
      "Epoch 3/100\n",
      "\u001b[1m813/813\u001b[0m \u001b[32m━━━━━━━━━━━━━━━━━━━━\u001b[0m\u001b[37m\u001b[0m \u001b[1m0s\u001b[0m 60ms/step - accuracy: 0.9311 - loss: 0.1925\n",
      "Epoch 3: val_loss improved from 0.24456 to 0.24204, saving model to D:\\Model\\DD_Project\\model checkpoint\\model.keras\n",
      "\u001b[1m813/813\u001b[0m \u001b[32m━━━━━━━━━━━━━━━━━━━━\u001b[0m\u001b[37m\u001b[0m \u001b[1m60s\u001b[0m 74ms/step - accuracy: 0.9311 - loss: 0.1925 - val_accuracy: 0.9002 - val_loss: 0.2420 - learning_rate: 0.0010\n",
      "Epoch 4/100\n",
      "\u001b[1m813/813\u001b[0m \u001b[32m━━━━━━━━━━━━━━━━━━━━\u001b[0m\u001b[37m\u001b[0m \u001b[1m0s\u001b[0m 63ms/step - accuracy: 0.9338 - loss: 0.1865\n",
      "Epoch 4: val_loss improved from 0.24204 to 0.22942, saving model to D:\\Model\\DD_Project\\model checkpoint\\model.keras\n",
      "\u001b[1m813/813\u001b[0m \u001b[32m━━━━━━━━━━━━━━━━━━━━\u001b[0m\u001b[37m\u001b[0m \u001b[1m62s\u001b[0m 76ms/step - accuracy: 0.9338 - loss: 0.1865 - val_accuracy: 0.9156 - val_loss: 0.2294 - learning_rate: 0.0010\n",
      "Epoch 5/100\n",
      "\u001b[1m813/813\u001b[0m \u001b[32m━━━━━━━━━━━━━━━━━━━━\u001b[0m\u001b[37m\u001b[0m \u001b[1m0s\u001b[0m 63ms/step - accuracy: 0.9303 - loss: 0.1951\n",
      "Epoch 5: val_loss improved from 0.22942 to 0.21936, saving model to D:\\Model\\DD_Project\\model checkpoint\\model.keras\n",
      "\u001b[1m813/813\u001b[0m \u001b[32m━━━━━━━━━━━━━━━━━━━━\u001b[0m\u001b[37m\u001b[0m \u001b[1m63s\u001b[0m 78ms/step - accuracy: 0.9303 - loss: 0.1951 - val_accuracy: 0.9144 - val_loss: 0.2194 - learning_rate: 0.0010\n",
      "Epoch 6/100\n",
      "\u001b[1m813/813\u001b[0m \u001b[32m━━━━━━━━━━━━━━━━━━━━\u001b[0m\u001b[37m\u001b[0m \u001b[1m0s\u001b[0m 64ms/step - accuracy: 0.9276 - loss: 0.1986\n",
      "Epoch 6: val_loss did not improve from 0.21936\n",
      "\u001b[1m813/813\u001b[0m \u001b[32m━━━━━━━━━━━━━━━━━━━━\u001b[0m\u001b[37m\u001b[0m \u001b[1m62s\u001b[0m 77ms/step - accuracy: 0.9276 - loss: 0.1986 - val_accuracy: 0.8953 - val_loss: 0.2701 - learning_rate: 0.0010\n",
      "Epoch 7/100\n",
      "\u001b[1m813/813\u001b[0m \u001b[32m━━━━━━━━━━━━━━━━━━━━\u001b[0m\u001b[37m\u001b[0m \u001b[1m0s\u001b[0m 65ms/step - accuracy: 0.9309 - loss: 0.1885\n",
      "Epoch 7: val_loss did not improve from 0.21936\n",
      "\u001b[1m813/813\u001b[0m \u001b[32m━━━━━━━━━━━━━━━━━━━━\u001b[0m\u001b[37m\u001b[0m \u001b[1m63s\u001b[0m 78ms/step - accuracy: 0.9309 - loss: 0.1885 - val_accuracy: 0.9089 - val_loss: 0.2507 - learning_rate: 0.0010\n",
      "Epoch 8/100\n",
      "\u001b[1m813/813\u001b[0m \u001b[32m━━━━━━━━━━━━━━━━━━━━\u001b[0m\u001b[37m\u001b[0m \u001b[1m0s\u001b[0m 64ms/step - accuracy: 0.9317 - loss: 0.1872\n",
      "Epoch 8: val_loss improved from 0.21936 to 0.21626, saving model to D:\\Model\\DD_Project\\model checkpoint\\model.keras\n",
      "\u001b[1m813/813\u001b[0m \u001b[32m━━━━━━━━━━━━━━━━━━━━\u001b[0m\u001b[37m\u001b[0m \u001b[1m64s\u001b[0m 79ms/step - accuracy: 0.9317 - loss: 0.1872 - val_accuracy: 0.9169 - val_loss: 0.2163 - learning_rate: 0.0010\n",
      "Epoch 9/100\n",
      "\u001b[1m813/813\u001b[0m \u001b[32m━━━━━━━━━━━━━━━━━━━━\u001b[0m\u001b[37m\u001b[0m \u001b[1m0s\u001b[0m 65ms/step - accuracy: 0.9275 - loss: 0.1907\n",
      "Epoch 9: val_loss did not improve from 0.21626\n",
      "\u001b[1m813/813\u001b[0m \u001b[32m━━━━━━━━━━━━━━━━━━━━\u001b[0m\u001b[37m\u001b[0m \u001b[1m63s\u001b[0m 78ms/step - accuracy: 0.9275 - loss: 0.1907 - val_accuracy: 0.9002 - val_loss: 0.2667 - learning_rate: 0.0010\n",
      "Epoch 10/100\n",
      "\u001b[1m812/813\u001b[0m \u001b[32m━━━━━━━━━━━━━━━━━━━\u001b[0m\u001b[37m━\u001b[0m \u001b[1m0s\u001b[0m 68ms/step - accuracy: 0.9276 - loss: 0.1986\n",
      "Epoch 10: val_loss did not improve from 0.21626\n",
      "\u001b[1m813/813\u001b[0m \u001b[32m━━━━━━━━━━━━━━━━━━━━\u001b[0m\u001b[37m\u001b[0m \u001b[1m65s\u001b[0m 80ms/step - accuracy: 0.9276 - loss: 0.1985 - val_accuracy: 0.9095 - val_loss: 0.2361 - learning_rate: 0.0010\n",
      "Epoch 11/100\n",
      "\u001b[1m  9/813\u001b[0m \u001b[37m━━━━━━━━━━━━━━━━━━━━\u001b[0m \u001b[1m38s\u001b[0m 48ms/step - accuracy: 0.9493 - loss: 0.2416\n",
      "Epoch 11: val_loss did not improve from 0.21626\n",
      "\u001b[1m813/813\u001b[0m \u001b[32m━━━━━━━━━━━━━━━━━━━━\u001b[0m\u001b[37m\u001b[0m \u001b[1m1s\u001b[0m 1ms/step - accuracy: 0.9445 - loss: 0.1862 - val_accuracy: 0.8889 - val_loss: 0.2583 - learning_rate: 0.0010\n",
      "Epoch 12/100\n",
      "\u001b[1m813/813\u001b[0m \u001b[32m━━━━━━━━━━━━━━━━━━━━\u001b[0m\u001b[37m\u001b[0m \u001b[1m0s\u001b[0m 55ms/step - accuracy: 0.9334 - loss: 0.1853\n",
      "Epoch 12: val_loss did not improve from 0.21626\n",
      "\u001b[1m813/813\u001b[0m \u001b[32m━━━━━━━━━━━━━━━━━━━━\u001b[0m\u001b[37m\u001b[0m \u001b[1m54s\u001b[0m 67ms/step - accuracy: 0.9334 - loss: 0.1853 - val_accuracy: 0.8922 - val_loss: 0.2993 - learning_rate: 0.0010\n",
      "Epoch 13/100\n",
      "\u001b[1m813/813\u001b[0m \u001b[32m━━━━━━━━━━━━━━━━━━━━\u001b[0m\u001b[37m\u001b[0m \u001b[1m0s\u001b[0m 62ms/step - accuracy: 0.9318 - loss: 0.1884\n",
      "Epoch 13: val_loss did not improve from 0.21626\n",
      "\u001b[1m813/813\u001b[0m \u001b[32m━━━━━━━━━━━━━━━━━━━━\u001b[0m\u001b[37m\u001b[0m \u001b[1m60s\u001b[0m 74ms/step - accuracy: 0.9318 - loss: 0.1884 - val_accuracy: 0.8990 - val_loss: 0.2404 - learning_rate: 0.0010\n",
      "Epoch 14/100\n",
      "\u001b[1m813/813\u001b[0m \u001b[32m━━━━━━━━━━━━━━━━━━━━\u001b[0m\u001b[37m\u001b[0m \u001b[1m0s\u001b[0m 61ms/step - accuracy: 0.9365 - loss: 0.1677\n",
      "Epoch 14: val_loss did not improve from 0.21626\n",
      "\u001b[1m813/813\u001b[0m \u001b[32m━━━━━━━━━━━━━━━━━━━━\u001b[0m\u001b[37m\u001b[0m \u001b[1m60s\u001b[0m 74ms/step - accuracy: 0.9365 - loss: 0.1677 - val_accuracy: 0.9052 - val_loss: 0.2548 - learning_rate: 0.0010\n",
      "Epoch 15/100\n",
      "\u001b[1m813/813\u001b[0m \u001b[32m━━━━━━━━━━━━━━━━━━━━\u001b[0m\u001b[37m\u001b[0m \u001b[1m0s\u001b[0m 59ms/step - accuracy: 0.9390 - loss: 0.1694\n",
      "Epoch 15: val_loss did not improve from 0.21626\n",
      "\u001b[1m813/813\u001b[0m \u001b[32m━━━━━━━━━━━━━━━━━━━━\u001b[0m\u001b[37m\u001b[0m \u001b[1m59s\u001b[0m 72ms/step - accuracy: 0.9390 - loss: 0.1694 - val_accuracy: 0.8947 - val_loss: 0.2587 - learning_rate: 0.0010\n",
      "Epoch 16/100\n",
      "\u001b[1m813/813\u001b[0m \u001b[32m━━━━━━━━━━━━━━━━━━━━\u001b[0m\u001b[37m\u001b[0m \u001b[1m0s\u001b[0m 61ms/step - accuracy: 0.9361 - loss: 0.1726\n",
      "Epoch 16: val_loss did not improve from 0.21626\n",
      "\u001b[1m813/813\u001b[0m \u001b[32m━━━━━━━━━━━━━━━━━━━━\u001b[0m\u001b[37m\u001b[0m \u001b[1m59s\u001b[0m 73ms/step - accuracy: 0.9361 - loss: 0.1726 - val_accuracy: 0.9046 - val_loss: 0.2616 - learning_rate: 0.0010\n",
      "Epoch 17/100\n",
      "\u001b[1m813/813\u001b[0m \u001b[32m━━━━━━━━━━━━━━━━━━━━\u001b[0m\u001b[37m\u001b[0m \u001b[1m0s\u001b[0m 64ms/step - accuracy: 0.9288 - loss: 0.1838\n",
      "Epoch 17: val_loss did not improve from 0.21626\n",
      "\u001b[1m813/813\u001b[0m \u001b[32m━━━━━━━━━━━━━━━━━━━━\u001b[0m\u001b[37m\u001b[0m \u001b[1m62s\u001b[0m 76ms/step - accuracy: 0.9288 - loss: 0.1838 - val_accuracy: 0.9015 - val_loss: 0.2551 - learning_rate: 0.0010\n",
      "Epoch 18/100\n",
      "\u001b[1m813/813\u001b[0m \u001b[32m━━━━━━━━━━━━━━━━━━━━\u001b[0m\u001b[37m\u001b[0m \u001b[1m0s\u001b[0m 88ms/step - accuracy: 0.9376 - loss: 0.1727\n",
      "Epoch 18: val_loss did not improve from 0.21626\n",
      "\u001b[1m813/813\u001b[0m \u001b[32m━━━━━━━━━━━━━━━━━━━━\u001b[0m\u001b[37m\u001b[0m \u001b[1m90s\u001b[0m 111ms/step - accuracy: 0.9376 - loss: 0.1727 - val_accuracy: 0.9052 - val_loss: 0.2569 - learning_rate: 0.0010\n",
      "Epoch 19/100\n",
      "\u001b[1m813/813\u001b[0m \u001b[32m━━━━━━━━━━━━━━━━━━━━\u001b[0m\u001b[37m\u001b[0m \u001b[1m0s\u001b[0m 66ms/step - accuracy: 0.9321 - loss: 0.1765\n",
      "Epoch 19: val_loss did not improve from 0.21626\n",
      "\u001b[1m813/813\u001b[0m \u001b[32m━━━━━━━━━━━━━━━━━━━━\u001b[0m\u001b[37m\u001b[0m \u001b[1m65s\u001b[0m 80ms/step - accuracy: 0.9321 - loss: 0.1765 - val_accuracy: 0.9070 - val_loss: 0.2446 - learning_rate: 0.0010\n",
      "Epoch 20/100\n",
      "\u001b[1m813/813\u001b[0m \u001b[32m━━━━━━━━━━━━━━━━━━━━\u001b[0m\u001b[37m\u001b[0m \u001b[1m0s\u001b[0m 59ms/step - accuracy: 0.9368 - loss: 0.1807\n",
      "Epoch 20: val_loss did not improve from 0.21626\n",
      "\u001b[1m813/813\u001b[0m \u001b[32m━━━━━━━━━━━━━━━━━━━━\u001b[0m\u001b[37m\u001b[0m \u001b[1m58s\u001b[0m 71ms/step - accuracy: 0.9368 - loss: 0.1807 - val_accuracy: 0.8879 - val_loss: 0.2873 - learning_rate: 0.0010\n",
      "Epoch 21/100\n",
      "\u001b[1m813/813\u001b[0m \u001b[32m━━━━━━━━━━━━━━━━━━━━\u001b[0m\u001b[37m\u001b[0m \u001b[1m0s\u001b[0m 63ms/step - accuracy: 0.9427 - loss: 0.1773\n",
      "Epoch 21: val_loss did not improve from 0.21626\n",
      "\u001b[1m813/813\u001b[0m \u001b[32m━━━━━━━━━━━━━━━━━━━━\u001b[0m\u001b[37m\u001b[0m \u001b[1m63s\u001b[0m 77ms/step - accuracy: 0.9427 - loss: 0.1773 - val_accuracy: 0.9070 - val_loss: 0.2475 - learning_rate: 0.0010\n",
      "Epoch 22/100\n",
      "\u001b[1m  9/813\u001b[0m \u001b[37m━━━━━━━━━━━━━━━━━━━━\u001b[0m \u001b[1m1:00\u001b[0m 75ms/step - accuracy: 0.9611 - loss: 0.1039\n",
      "Epoch 22: val_loss improved from 0.21626 to 0.15673, saving model to D:\\Model\\DD_Project\\model checkpoint\\model.keras\n",
      "\u001b[1m813/813\u001b[0m \u001b[32m━━━━━━━━━━━━━━━━━━━━\u001b[0m\u001b[37m\u001b[0m \u001b[1m2s\u001b[0m 3ms/step - accuracy: 0.9446 - loss: 0.1424 - val_accuracy: 0.9167 - val_loss: 0.1567 - learning_rate: 0.0010\n",
      "Epoch 23/100\n",
      "\u001b[1m813/813\u001b[0m \u001b[32m━━━━━━━━━━━━━━━━━━━━\u001b[0m\u001b[37m\u001b[0m \u001b[1m0s\u001b[0m 64ms/step - accuracy: 0.9473 - loss: 0.1552\n",
      "Epoch 23: val_loss did not improve from 0.15673\n",
      "\u001b[1m813/813\u001b[0m \u001b[32m━━━━━━━━━━━━━━━━━━━━\u001b[0m\u001b[37m\u001b[0m \u001b[1m64s\u001b[0m 78ms/step - accuracy: 0.9473 - loss: 0.1552 - val_accuracy: 0.8984 - val_loss: 0.2609 - learning_rate: 0.0010\n",
      "Epoch 24/100\n",
      "\u001b[1m813/813\u001b[0m \u001b[32m━━━━━━━━━━━━━━━━━━━━\u001b[0m\u001b[37m\u001b[0m \u001b[1m0s\u001b[0m 64ms/step - accuracy: 0.9356 - loss: 0.1848\n",
      "Epoch 24: val_loss did not improve from 0.15673\n",
      "\u001b[1m813/813\u001b[0m \u001b[32m━━━━━━━━━━━━━━━━━━━━\u001b[0m\u001b[37m\u001b[0m \u001b[1m63s\u001b[0m 78ms/step - accuracy: 0.9356 - loss: 0.1848 - val_accuracy: 0.9138 - val_loss: 0.2210 - learning_rate: 0.0010\n",
      "Epoch 25/100\n",
      "\u001b[1m813/813\u001b[0m \u001b[32m━━━━━━━━━━━━━━━━━━━━\u001b[0m\u001b[37m\u001b[0m \u001b[1m0s\u001b[0m 72ms/step - accuracy: 0.9350 - loss: 0.1782\n",
      "Epoch 25: val_loss did not improve from 0.15673\n",
      "\u001b[1m813/813\u001b[0m \u001b[32m━━━━━━━━━━━━━━━━━━━━\u001b[0m\u001b[37m\u001b[0m \u001b[1m69s\u001b[0m 85ms/step - accuracy: 0.9350 - loss: 0.1782 - val_accuracy: 0.9083 - val_loss: 0.2601 - learning_rate: 0.0010\n",
      "Epoch 26/100\n",
      "\u001b[1m813/813\u001b[0m \u001b[32m━━━━━━━━━━━━━━━━━━━━\u001b[0m\u001b[37m\u001b[0m \u001b[1m0s\u001b[0m 84ms/step - accuracy: 0.9339 - loss: 0.1769\n",
      "Epoch 26: val_loss did not improve from 0.15673\n",
      "\u001b[1m813/813\u001b[0m \u001b[32m━━━━━━━━━━━━━━━━━━━━\u001b[0m\u001b[37m\u001b[0m \u001b[1m87s\u001b[0m 107ms/step - accuracy: 0.9339 - loss: 0.1769 - val_accuracy: 0.9138 - val_loss: 0.2591 - learning_rate: 0.0010\n",
      "Epoch 27/100\n",
      "\u001b[1m813/813\u001b[0m \u001b[32m━━━━━━━━━━━━━━━━━━━━\u001b[0m\u001b[37m\u001b[0m \u001b[1m0s\u001b[0m 80ms/step - accuracy: 0.9371 - loss: 0.1784\n",
      "Epoch 27: val_loss did not improve from 0.15673\n",
      "\u001b[1m813/813\u001b[0m \u001b[32m━━━━━━━━━━━━━━━━━━━━\u001b[0m\u001b[37m\u001b[0m \u001b[1m84s\u001b[0m 104ms/step - accuracy: 0.9371 - loss: 0.1784 - val_accuracy: 0.8849 - val_loss: 0.2952 - learning_rate: 0.0010\n",
      "Epoch 28/100\n",
      "\u001b[1m813/813\u001b[0m \u001b[32m━━━━━━━━━━━━━━━━━━━━\u001b[0m\u001b[37m\u001b[0m \u001b[1m0s\u001b[0m 59ms/step - accuracy: 0.9367 - loss: 0.1722\n",
      "Epoch 28: val_loss did not improve from 0.15673\n",
      "\u001b[1m813/813\u001b[0m \u001b[32m━━━━━━━━━━━━━━━━━━━━\u001b[0m\u001b[37m\u001b[0m \u001b[1m61s\u001b[0m 75ms/step - accuracy: 0.9367 - loss: 0.1722 - val_accuracy: 0.9039 - val_loss: 0.2568 - learning_rate: 0.0010\n",
      "Epoch 29/100\n",
      "\u001b[1m812/813\u001b[0m \u001b[32m━━━━━━━━━━━━━━━━━━━\u001b[0m\u001b[37m━\u001b[0m \u001b[1m0s\u001b[0m 91ms/step - accuracy: 0.9420 - loss: 0.1788\n",
      "Epoch 29: val_loss did not improve from 0.15673\n",
      "\u001b[1m813/813\u001b[0m \u001b[32m━━━━━━━━━━━━━━━━━━━━\u001b[0m\u001b[37m\u001b[0m \u001b[1m83s\u001b[0m 102ms/step - accuracy: 0.9420 - loss: 0.1788 - val_accuracy: 0.8922 - val_loss: 0.2820 - learning_rate: 0.0010\n",
      "Epoch 30/100\n",
      "\u001b[1m813/813\u001b[0m \u001b[32m━━━━━━━━━━━━━━━━━━━━\u001b[0m\u001b[37m\u001b[0m \u001b[1m0s\u001b[0m 69ms/step - accuracy: 0.9415 - loss: 0.1648\n",
      "Epoch 30: val_loss did not improve from 0.15673\n",
      "\u001b[1m813/813\u001b[0m \u001b[32m━━━━━━━━━━━━━━━━━━━━\u001b[0m\u001b[37m\u001b[0m \u001b[1m66s\u001b[0m 82ms/step - accuracy: 0.9415 - loss: 0.1648 - val_accuracy: 0.8922 - val_loss: 0.2804 - learning_rate: 0.0010\n",
      "Epoch 31/100\n",
      "\u001b[1m813/813\u001b[0m \u001b[32m━━━━━━━━━━━━━━━━━━━━\u001b[0m\u001b[37m\u001b[0m \u001b[1m0s\u001b[0m 58ms/step - accuracy: 0.9393 - loss: 0.1687\n",
      "Epoch 31: val_loss did not improve from 0.15673\n",
      "\u001b[1m813/813\u001b[0m \u001b[32m━━━━━━━━━━━━━━━━━━━━\u001b[0m\u001b[37m\u001b[0m \u001b[1m58s\u001b[0m 72ms/step - accuracy: 0.9393 - loss: 0.1687 - val_accuracy: 0.9144 - val_loss: 0.2431 - learning_rate: 0.0010\n",
      "Epoch 32/100\n",
      "\u001b[1m813/813\u001b[0m \u001b[32m━━━━━━━━━━━━━━━━━━━━\u001b[0m\u001b[37m\u001b[0m \u001b[1m0s\u001b[0m 64ms/step - accuracy: 0.9347 - loss: 0.1780\n",
      "Epoch 32: val_loss did not improve from 0.15673\n",
      "\u001b[1m813/813\u001b[0m \u001b[32m━━━━━━━━━━━━━━━━━━━━\u001b[0m\u001b[37m\u001b[0m \u001b[1m62s\u001b[0m 76ms/step - accuracy: 0.9347 - loss: 0.1780 - val_accuracy: 0.9052 - val_loss: 0.2578 - learning_rate: 0.0010\n",
      "Epoch 33/100\n",
      "\u001b[1m  9/813\u001b[0m \u001b[37m━━━━━━━━━━━━━━━━━━━━\u001b[0m \u001b[1m46s\u001b[0m 58ms/step - accuracy: 0.9001 - loss: 0.2648\n",
      "Epoch 33: val_loss did not improve from 0.15673\n",
      "\u001b[1m813/813\u001b[0m \u001b[32m━━━━━━━━━━━━━━━━━━━━\u001b[0m\u001b[37m\u001b[0m \u001b[1m1s\u001b[0m 955us/step - accuracy: 0.9302 - loss: 0.1637 - val_accuracy: 0.9167 - val_loss: 0.1893 - learning_rate: 0.0010\n",
      "Epoch 34/100\n",
      "\u001b[1m813/813\u001b[0m \u001b[32m━━━━━━━━━━━━━━━━━━━━\u001b[0m\u001b[37m\u001b[0m \u001b[1m0s\u001b[0m 63ms/step - accuracy: 0.9415 - loss: 0.1622\n",
      "Epoch 34: val_loss did not improve from 0.15673\n",
      "\u001b[1m813/813\u001b[0m \u001b[32m━━━━━━━━━━━━━━━━━━━━\u001b[0m\u001b[37m\u001b[0m \u001b[1m61s\u001b[0m 75ms/step - accuracy: 0.9415 - loss: 0.1622 - val_accuracy: 0.9027 - val_loss: 0.2555 - learning_rate: 0.0010\n",
      "Epoch 35/100\n",
      "\u001b[1m813/813\u001b[0m \u001b[32m━━━━━━━━━━━━━━━━━━━━\u001b[0m\u001b[37m\u001b[0m \u001b[1m0s\u001b[0m 64ms/step - accuracy: 0.9362 - loss: 0.1782\n",
      "Epoch 35: val_loss did not improve from 0.15673\n",
      "\u001b[1m813/813\u001b[0m \u001b[32m━━━━━━━━━━━━━━━━━━━━\u001b[0m\u001b[37m\u001b[0m \u001b[1m63s\u001b[0m 78ms/step - accuracy: 0.9362 - loss: 0.1782 - val_accuracy: 0.8959 - val_loss: 0.3022 - learning_rate: 0.0010\n",
      "Epoch 36/100\n",
      "\u001b[1m813/813\u001b[0m \u001b[32m━━━━━━━━━━━━━━━━━━━━\u001b[0m\u001b[37m\u001b[0m \u001b[1m0s\u001b[0m 63ms/step - accuracy: 0.9332 - loss: 0.1843\n",
      "Epoch 36: val_loss did not improve from 0.15673\n",
      "\u001b[1m813/813\u001b[0m \u001b[32m━━━━━━━━━━━━━━━━━━━━\u001b[0m\u001b[37m\u001b[0m \u001b[1m61s\u001b[0m 75ms/step - accuracy: 0.9332 - loss: 0.1843 - val_accuracy: 0.8904 - val_loss: 0.2847 - learning_rate: 0.0010\n",
      "Epoch 37/100\n",
      "\u001b[1m813/813\u001b[0m \u001b[32m━━━━━━━━━━━━━━━━━━━━\u001b[0m\u001b[37m\u001b[0m \u001b[1m0s\u001b[0m 61ms/step - accuracy: 0.9382 - loss: 0.1707\n",
      "Epoch 37: val_loss did not improve from 0.15673\n",
      "\n",
      "Epoch 37: ReduceLROnPlateau reducing learning rate to 0.00010000000474974513.\n",
      "\u001b[1m813/813\u001b[0m \u001b[32m━━━━━━━━━━━━━━━━━━━━\u001b[0m\u001b[37m\u001b[0m \u001b[1m61s\u001b[0m 75ms/step - accuracy: 0.9382 - loss: 0.1707 - val_accuracy: 0.8947 - val_loss: 0.3023 - learning_rate: 0.0010\n",
      "Epoch 38/100\n",
      "\u001b[1m813/813\u001b[0m \u001b[32m━━━━━━━━━━━━━━━━━━━━\u001b[0m\u001b[37m\u001b[0m \u001b[1m0s\u001b[0m 62ms/step - accuracy: 0.9304 - loss: 0.1790\n",
      "Epoch 38: val_loss did not improve from 0.15673\n",
      "\u001b[1m813/813\u001b[0m \u001b[32m━━━━━━━━━━━━━━━━━━━━\u001b[0m\u001b[37m\u001b[0m \u001b[1m62s\u001b[0m 76ms/step - accuracy: 0.9304 - loss: 0.1790 - val_accuracy: 0.9070 - val_loss: 0.2400 - learning_rate: 1.0000e-04\n",
      "Epoch 39/100\n",
      "\u001b[1m813/813\u001b[0m \u001b[32m━━━━━━━━━━━━━━━━━━━━\u001b[0m\u001b[37m\u001b[0m \u001b[1m0s\u001b[0m 62ms/step - accuracy: 0.9455 - loss: 0.1530\n",
      "Epoch 39: val_loss did not improve from 0.15673\n",
      "\u001b[1m813/813\u001b[0m \u001b[32m━━━━━━━━━━━━━━━━━━━━\u001b[0m\u001b[37m\u001b[0m \u001b[1m61s\u001b[0m 75ms/step - accuracy: 0.9455 - loss: 0.1530 - val_accuracy: 0.9027 - val_loss: 0.2288 - learning_rate: 1.0000e-04\n",
      "Epoch 40/100\n",
      "\u001b[1m813/813\u001b[0m \u001b[32m━━━━━━━━━━━━━━━━━━━━\u001b[0m\u001b[37m\u001b[0m \u001b[1m0s\u001b[0m 63ms/step - accuracy: 0.9333 - loss: 0.1735\n",
      "Epoch 40: val_loss did not improve from 0.15673\n",
      "\u001b[1m813/813\u001b[0m \u001b[32m━━━━━━━━━━━━━━━━━━━━\u001b[0m\u001b[37m\u001b[0m \u001b[1m62s\u001b[0m 76ms/step - accuracy: 0.9333 - loss: 0.1734 - val_accuracy: 0.9107 - val_loss: 0.2468 - learning_rate: 1.0000e-04\n",
      "Epoch 41/100\n",
      "\u001b[1m813/813\u001b[0m \u001b[32m━━━━━━━━━━━━━━━━━━━━\u001b[0m\u001b[37m\u001b[0m \u001b[1m0s\u001b[0m 64ms/step - accuracy: 0.9436 - loss: 0.1574\n",
      "Epoch 41: val_loss did not improve from 0.15673\n",
      "\u001b[1m813/813\u001b[0m \u001b[32m━━━━━━━━━━━━━━━━━━━━\u001b[0m\u001b[37m\u001b[0m \u001b[1m62s\u001b[0m 77ms/step - accuracy: 0.9436 - loss: 0.1574 - val_accuracy: 0.9064 - val_loss: 0.2553 - learning_rate: 1.0000e-04\n",
      "Epoch 42/100\n",
      "\u001b[1m813/813\u001b[0m \u001b[32m━━━━━━━━━━━━━━━━━━━━\u001b[0m\u001b[37m\u001b[0m \u001b[1m0s\u001b[0m 67ms/step - accuracy: 0.9418 - loss: 0.1732\n",
      "Epoch 42: val_loss did not improve from 0.15673\n",
      "\u001b[1m813/813\u001b[0m \u001b[32m━━━━━━━━━━━━━━━━━━━━\u001b[0m\u001b[37m\u001b[0m \u001b[1m66s\u001b[0m 81ms/step - accuracy: 0.9418 - loss: 0.1732 - val_accuracy: 0.9119 - val_loss: 0.2370 - learning_rate: 1.0000e-04\n",
      "Epoch 42: early stopping\n",
      "Restoring model weights from the end of the best epoch: 22.\n"
     ]
    },
    {
     "data": {
      "text/plain": [
       "<keras.src.callbacks.history.History at 0x168282e4650>"
      ]
     },
     "execution_count": 26,
     "metadata": {},
     "output_type": "execute_result"
    }
   ],
   "source": [
    "from tensorflow.keras.preprocessing.image import load_img\n",
    "from tensorflow.keras.preprocessing.image import img_to_array\n",
    "from sklearn.preprocessing import LabelEncoder\n",
    "batchsize=80\n",
    "model.compile(optimizer='Adam',loss='categorical_crossentropy',metrics=['accuracy'])\n",
    "model.fit(train_data,steps_per_epoch=train_data.samples//batchsize,\n",
    "                   validation_data=validation_data,\n",
    "                   validation_steps=validation_data.samples//batchsize,\n",
    "                   callbacks=callbacks,epochs=100)"
   ]
  },
  {
   "cell_type": "code",
   "execution_count": 27,
   "id": "6d5ff490-af2e-46fc-9f8c-88ca9b6c36b9",
   "metadata": {},
   "outputs": [
    {
     "name": "stdout",
     "output_type": "stream",
     "text": [
      "\u001b[1m8139/8139\u001b[0m \u001b[32m━━━━━━━━━━━━━━━━━━━━\u001b[0m\u001b[37m\u001b[0m \u001b[1m727s\u001b[0m 89ms/step - accuracy: 0.9433 - loss: 0.1488\n",
      "0.14631111919879913\n",
      "0.9442780613899231\n"
     ]
    }
   ],
   "source": [
    "acc_tr,loss_tr=model.evaluate(train_data)\n",
    "print(acc_tr)\n",
    "print(loss_tr)"
   ]
  },
  {
   "cell_type": "code",
   "execution_count": 28,
   "id": "076190cd-9d69-4c58-aa68-5dab0e4bbdbd",
   "metadata": {},
   "outputs": [
    {
     "name": "stdout",
     "output_type": "stream",
     "text": [
      "\u001b[1m2035/2035\u001b[0m \u001b[32m━━━━━━━━━━━━━━━━━━━━\u001b[0m\u001b[37m\u001b[0m \u001b[1m151s\u001b[0m 74ms/step - accuracy: 0.8979 - loss: 0.2661\n",
      "0.2582075595855713\n",
      "0.9018186330795288\n"
     ]
    }
   ],
   "source": [
    "acc_vr,loss_vr=model.evaluate(validation_data)\n",
    "print(acc_vr)\n",
    "print(loss_vr)"
   ]
  },
  {
   "cell_type": "code",
   "execution_count": 29,
   "id": "e9479db0-9511-49bc-b78c-afaad4fc2b2e",
   "metadata": {},
   "outputs": [
    {
     "name": "stdout",
     "output_type": "stream",
     "text": [
      "\u001b[1m3806/3806\u001b[0m \u001b[32m━━━━━━━━━━━━━━━━━━━━\u001b[0m\u001b[37m\u001b[0m \u001b[1m308s\u001b[0m 81ms/step - accuracy: 0.9486 - loss: 0.1444\n",
      "0.1514720618724823\n",
      "0.9463986754417419\n"
     ]
    }
   ],
   "source": [
    "acc_te,loss_te=model.evaluate(test_data)\n",
    "print(acc_te)\n",
    "print(loss_te)"
   ]
  }
 ],
 "metadata": {
  "kernelspec": {
   "display_name": "Python 3 (ipykernel)",
   "language": "python",
   "name": "python3"
  },
  "language_info": {
   "codemirror_mode": {
    "name": "ipython",
    "version": 3
   },
   "file_extension": ".py",
   "mimetype": "text/x-python",
   "name": "python",
   "nbconvert_exporter": "python",
   "pygments_lexer": "ipython3",
   "version": "3.11.4"
  }
 },
 "nbformat": 4,
 "nbformat_minor": 5
}
